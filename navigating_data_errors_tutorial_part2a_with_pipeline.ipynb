{
 "cells": [
  {
   "cell_type": "markdown",
   "metadata": {
    "id": "sQb-BFDgRgzt"
   },
   "source": [
    "# Part 2a: Tracing Data Errors through Pipelines\n",
    "\n",
    "We extend the [previous tutorial notebook on data importance](https://colab.research.google.com/drive/1oYuWJr9J36hT83k3gjqqOLUwsze8rZVN?usp=sharing) with a complex feature encoding pipeline, and show that we can **trace data errors through these pipelines** easily too. The notebook again revolves around a **toy problem of classifying the sentiment of recommendation letters**, and we again detail how to leverage data importance to **identify impactful label errors** in the data.\n"
   ]
  },
  {
   "cell_type": "markdown",
   "metadata": {
    "id": "jGHLPD2BSG6P"
   },
   "source": [
    "**Installation of required dependencies**. Note that you maybe asked to restart the colab session."
   ]
  },
  {
   "cell_type": "code",
   "execution_count": 1,
   "metadata": {
    "colab": {
     "base_uri": "https://localhost:8080/"
    },
    "id": "sB1-0Q9t0qLU",
    "outputId": "21675e1b-f9be-4a49-b556-6fe7279ef03c"
   },
   "outputs": [
    {
     "name": "stdout",
     "output_type": "stream",
     "text": [
      "\n",
      "\u001b[1m[\u001b[0m\u001b[34;49mnotice\u001b[0m\u001b[1;39;49m]\u001b[0m\u001b[39;49m A new release of pip is available: \u001b[0m\u001b[31;49m25.0.1\u001b[0m\u001b[39;49m -> \u001b[0m\u001b[32;49m25.1.1\u001b[0m\n",
      "\u001b[1m[\u001b[0m\u001b[34;49mnotice\u001b[0m\u001b[1;39;49m]\u001b[0m\u001b[39;49m To update, run: \u001b[0m\u001b[32;49mpip install --upgrade pip\u001b[0m\n"
     ]
    }
   ],
   "source": [
    "!pip install --quiet git+https://github.com/navigating-data-errors/tutorial/"
   ]
  },
  {
   "cell_type": "markdown",
   "metadata": {
    "id": "Oc9LmBoQ6huB"
   },
   "source": [
    "---\n",
    "\n",
    "**IMPORTANT** - due to dependency issues in colab, you need to manually restart the session now in the menu on top via:\n",
    "\n",
    "`Runtime > Restart session`\n",
    "\n",
    "---"
   ]
  },
  {
   "cell_type": "code",
   "execution_count": 2,
   "metadata": {
    "id": "V5LHy-Ts102k"
   },
   "outputs": [],
   "source": [
    "import pandas as pd\n",
    "from sentence_transformers import SentenceTransformer\n",
    "import copy\n",
    "import seaborn as sns\n",
    "import matplotlib.pyplot as plt\n",
    "import numpy as np\n",
    "from sklearn.model_selection import train_test_split\n",
    "from sklearn.linear_model import SGDClassifier\n",
    "from sklearn.preprocessing import LabelEncoder\n",
    "from datascope.importance import SklearnModelAccuracy\n",
    "from datascope.importance.shapley import ShapleyImportance, ImportanceMethod\n",
    "from sklearn.pipeline import Pipeline\n",
    "\n",
    "from nde.utility import SklearnPipelineAccuracy\n",
    "from nde.importances import PipelineImportance\n",
    "\n",
    "SEED = 18011982\n",
    "np.random.seed(SEED)"
   ]
  },
  {
   "cell_type": "markdown",
   "metadata": {
    "id": "VlzmZe0GSQh3"
   },
   "source": [
    "## Source data\n",
    "\n",
    "We operate on a **dataset of recommendation letters**, labeled as positive, neutral and negative, with additional numerical and categorical attributes."
   ]
  },
  {
   "cell_type": "code",
   "execution_count": 3,
   "metadata": {
    "colab": {
     "base_uri": "https://localhost:8080/",
     "height": 424
    },
    "id": "ro5YeT2W1qg3",
    "outputId": "ef1d8253-27c7-4953-a063-a6985db1cbdf"
   },
   "outputs": [
    {
     "data": {
      "text/html": [
       "<div>\n",
       "<style scoped>\n",
       "    .dataframe tbody tr th:only-of-type {\n",
       "        vertical-align: middle;\n",
       "    }\n",
       "\n",
       "    .dataframe tbody tr th {\n",
       "        vertical-align: top;\n",
       "    }\n",
       "\n",
       "    .dataframe thead th {\n",
       "        text-align: right;\n",
       "    }\n",
       "</style>\n",
       "<table border=\"1\" class=\"dataframe\">\n",
       "  <thead>\n",
       "    <tr style=\"text-align: right;\">\n",
       "      <th></th>\n",
       "      <th>age</th>\n",
       "      <th>sector</th>\n",
       "      <th>education</th>\n",
       "      <th>letter</th>\n",
       "      <th>label</th>\n",
       "    </tr>\n",
       "  </thead>\n",
       "  <tbody>\n",
       "    <tr>\n",
       "      <th>0</th>\n",
       "      <td>39</td>\n",
       "      <td>academia</td>\n",
       "      <td>NaN</td>\n",
       "      <td>To Whom It May Concern,\\n\\nI regret to write t...</td>\n",
       "      <td>negative</td>\n",
       "    </tr>\n",
       "    <tr>\n",
       "      <th>1</th>\n",
       "      <td>36</td>\n",
       "      <td>academia</td>\n",
       "      <td>trainee</td>\n",
       "      <td>To Whom It May Concern,\\n\\nI regret to inform ...</td>\n",
       "      <td>negative</td>\n",
       "    </tr>\n",
       "    <tr>\n",
       "      <th>2</th>\n",
       "      <td>64</td>\n",
       "      <td>finance</td>\n",
       "      <td>college</td>\n",
       "      <td>To Whom It May Concern,\\n\\nI am pleased to rec...</td>\n",
       "      <td>positive</td>\n",
       "    </tr>\n",
       "    <tr>\n",
       "      <th>3</th>\n",
       "      <td>46</td>\n",
       "      <td>health</td>\n",
       "      <td>trainee</td>\n",
       "      <td>To whom it may concern,\\n\\nI am writing to rec...</td>\n",
       "      <td>neutral</td>\n",
       "    </tr>\n",
       "    <tr>\n",
       "      <th>4</th>\n",
       "      <td>53</td>\n",
       "      <td>finance</td>\n",
       "      <td>trainee</td>\n",
       "      <td>To Whom It May Concern,\\n\\nI regret to inform ...</td>\n",
       "      <td>negative</td>\n",
       "    </tr>\n",
       "    <tr>\n",
       "      <th>...</th>\n",
       "      <td>...</td>\n",
       "      <td>...</td>\n",
       "      <td>...</td>\n",
       "      <td>...</td>\n",
       "      <td>...</td>\n",
       "    </tr>\n",
       "    <tr>\n",
       "      <th>195</th>\n",
       "      <td>53</td>\n",
       "      <td>finance</td>\n",
       "      <td>trainee</td>\n",
       "      <td>To whom it may concern,\\n\\nI regret to inform ...</td>\n",
       "      <td>negative</td>\n",
       "    </tr>\n",
       "    <tr>\n",
       "      <th>196</th>\n",
       "      <td>36</td>\n",
       "      <td>finance</td>\n",
       "      <td>college</td>\n",
       "      <td>To Whom It May Concern,\\n\\nI regret to inform ...</td>\n",
       "      <td>negative</td>\n",
       "    </tr>\n",
       "    <tr>\n",
       "      <th>197</th>\n",
       "      <td>23</td>\n",
       "      <td>finance</td>\n",
       "      <td>college</td>\n",
       "      <td>Dear [Recipient's Name],\\n\\nI regret to inform...</td>\n",
       "      <td>negative</td>\n",
       "    </tr>\n",
       "    <tr>\n",
       "      <th>198</th>\n",
       "      <td>22</td>\n",
       "      <td>academia</td>\n",
       "      <td>trainee</td>\n",
       "      <td>To whom it may concern,\\n\\nI am pleased to rec...</td>\n",
       "      <td>positive</td>\n",
       "    </tr>\n",
       "    <tr>\n",
       "      <th>199</th>\n",
       "      <td>31</td>\n",
       "      <td>finance</td>\n",
       "      <td>college</td>\n",
       "      <td>To whom it may concern,\\n\\nI regret to inform ...</td>\n",
       "      <td>negative</td>\n",
       "    </tr>\n",
       "  </tbody>\n",
       "</table>\n",
       "<p>200 rows × 5 columns</p>\n",
       "</div>"
      ],
      "text/plain": [
       "     age    sector education  \\\n",
       "0     39  academia       NaN   \n",
       "1     36  academia   trainee   \n",
       "2     64   finance   college   \n",
       "3     46    health   trainee   \n",
       "4     53   finance   trainee   \n",
       "..   ...       ...       ...   \n",
       "195   53   finance   trainee   \n",
       "196   36   finance   college   \n",
       "197   23   finance   college   \n",
       "198   22  academia   trainee   \n",
       "199   31   finance   college   \n",
       "\n",
       "                                                letter     label  \n",
       "0    To Whom It May Concern,\\n\\nI regret to write t...  negative  \n",
       "1    To Whom It May Concern,\\n\\nI regret to inform ...  negative  \n",
       "2    To Whom It May Concern,\\n\\nI am pleased to rec...  positive  \n",
       "3    To whom it may concern,\\n\\nI am writing to rec...   neutral  \n",
       "4    To Whom It May Concern,\\n\\nI regret to inform ...  negative  \n",
       "..                                                 ...       ...  \n",
       "195  To whom it may concern,\\n\\nI regret to inform ...  negative  \n",
       "196  To Whom It May Concern,\\n\\nI regret to inform ...  negative  \n",
       "197  Dear [Recipient's Name],\\n\\nI regret to inform...  negative  \n",
       "198  To whom it may concern,\\n\\nI am pleased to rec...  positive  \n",
       "199  To whom it may concern,\\n\\nI regret to inform ...  negative  \n",
       "\n",
       "[200 rows x 5 columns]"
      ]
     },
     "execution_count": 3,
     "metadata": {},
     "output_type": "execute_result"
    }
   ],
   "source": [
    "df = pd.read_csv('https://raw.githubusercontent.com/navigating-data-errors/tutorial/refs/heads/main/synthetic_letters_with_attributes.csv')\n",
    "df"
   ]
  },
  {
   "cell_type": "markdown",
   "metadata": {
    "id": "U7qADQPbSW-V"
   },
   "source": [
    "### Data Preparation, Pipeline and Model Definition\n",
    "\n",
    "The dataset is split into 50% training data, 25% validation data and 25% test data. The letters and the corresponding attributes are **encoded via a complex, nested feature encoding pipeline**, and a logistic regression model will be used to predict their sentiment."
   ]
  },
  {
   "cell_type": "code",
   "execution_count": 4,
   "metadata": {
    "id": "6vYD6IHW2C8a"
   },
   "outputs": [],
   "source": [
    "train, rest = train_test_split(df, test_size=0.5, random_state=SEED)\n",
    "valid, test = train_test_split(rest, test_size=0.5, random_state=SEED)"
   ]
  },
  {
   "cell_type": "code",
   "execution_count": 5,
   "metadata": {
    "id": "am-ehlGL2Fgt"
   },
   "outputs": [],
   "source": [
    "from sklearn.compose import ColumnTransformer\n",
    "from sklearn.impute import SimpleImputer\n",
    "from sklearn.preprocessing import FunctionTransformer, OneHotEncoder, StandardScaler\n",
    "from sklearn.feature_extraction.text import HashingVectorizer\n",
    "\n",
    "went_to_college = Pipeline([\n",
    "    ('impute', SimpleImputer(strategy='constant', fill_value='unknown')),\n",
    "    ('college_or_phd', FunctionTransformer(lambda x: (x == 'college') | (x == 'phd'))),\n",
    "])\n",
    "\n",
    "age = Pipeline([\n",
    "    ('impute', SimpleImputer(strategy='mean')),\n",
    "    ('scale', StandardScaler()),\n",
    "])\n",
    "\n",
    "feature_encoding = ColumnTransformer([\n",
    "    ('at_least_college', went_to_college, ['education']),\n",
    "    ('sector_one_hot', OneHotEncoder(), ['sector']),\n",
    "    ('age', age, ['age']),\n",
    "    ('encoded_letters', HashingVectorizer(ngram_range=(1, 3), n_features=1000), 'letter'),\n",
    "], sparse_threshold=0.0)\n",
    "\n",
    "pipeline = [\n",
    "    feature_encoding, SGDClassifier(loss='log_loss', random_state=SEED)\n",
    "]"
   ]
  },
  {
   "cell_type": "markdown",
   "metadata": {
    "id": "RQepd85XSpSM"
   },
   "source": [
    "### Model Training and Evaluation\n",
    "\n",
    "The utility function trains the pipeline on the training data and computes its accuracy on the held-out test set."
   ]
  },
  {
   "cell_type": "code",
   "execution_count": 6,
   "metadata": {
    "colab": {
     "base_uri": "https://localhost:8080/"
    },
    "id": "jYwtj5r_2Hxf",
    "outputId": "3cabdfbc-978c-4336-fbcd-29f67b1dcbb6"
   },
   "outputs": [
    {
     "data": {
      "text/plain": [
       "0.92"
      ]
     },
     "execution_count": 6,
     "metadata": {},
     "output_type": "execute_result"
    }
   ],
   "source": [
    "utility = SklearnPipelineAccuracy(pipeline)\n",
    "utility(train, train.label, test, test.label).score"
   ]
  },
  {
   "cell_type": "markdown",
   "metadata": {
    "id": "7Ezs5BrxSsVh"
   },
   "source": [
    "### Impact of Label Errors\n",
    "\n",
    "Next, we **inject synthetic label errors into the training data**, by randomly flipping the label of 50% of the training samples. We observe a **huge drop of the utility of the model**, when trained on the erroneous data."
   ]
  },
  {
   "cell_type": "code",
   "execution_count": 7,
   "metadata": {
    "id": "va-2QWKe2Kvo"
   },
   "outputs": [],
   "source": [
    "def inject_label_errors(original_labels, fraction):\n",
    "    labels_with_errors = copy.deepcopy(list(original_labels))\n",
    "    count = int(len(labels_with_errors) * fraction)\n",
    "    indices_for_errors = np.random.choice(range(len(labels_with_errors)), count, replace=True)\n",
    "\n",
    "    possible_labels = list(set(original_labels))\n",
    "\n",
    "    for idx in indices_for_errors:\n",
    "        true_label = labels_with_errors[idx]\n",
    "        other_labels = [label for label in possible_labels if label != true_label]\n",
    "        labels_with_errors[idx] = np.random.choice(other_labels)\n",
    "\n",
    "    return labels_with_errors"
   ]
  },
  {
   "cell_type": "code",
   "execution_count": 8,
   "metadata": {
    "colab": {
     "base_uri": "https://localhost:8080/"
    },
    "id": "z3TBmhwr2Oyf",
    "outputId": "6d0f9892-092f-405f-f490-55c2b613fbc0"
   },
   "outputs": [
    {
     "data": {
      "text/plain": [
       "0.74"
      ]
     },
     "execution_count": 8,
     "metadata": {},
     "output_type": "execute_result"
    }
   ],
   "source": [
    "train_mislabeled = inject_label_errors(train.label, fraction=0.5)\n",
    "\n",
    "utility(train, train_mislabeled, test, test.label).score"
   ]
  },
  {
   "cell_type": "markdown",
   "metadata": {
    "id": "8TdkEn7HS4XV"
   },
   "source": [
    "### Data Importance Computation\n",
    "\n",
    "Next, we show how to **compute various notions of data importance** over the pipeline for the training data, such as Leave-One-Out Errors and Data Shapley values."
   ]
  },
  {
   "cell_type": "code",
   "execution_count": 9,
   "metadata": {
    "colab": {
     "base_uri": "https://localhost:8080/",
     "height": 430
    },
    "id": "n-S54RK02fzi",
    "outputId": "d37b6b90-0c00-4b71-8f0f-7914936cd6e3"
   },
   "outputs": [
    {
     "data": {
      "image/png": "[encoded data removed]",
      "text/plain": [
       "<Figure size 640x480 with 1 Axes>"
      ]
     },
     "metadata": {},
     "output_type": "display_data"
    }
   ],
   "source": [
    "from nde.importances import LooImportance\n",
    "\n",
    "loo_importance = PipelineImportance(utility, LooImportance)\n",
    "\n",
    "loo_values = loo_importance.fit(train, train_mislabeled).score(valid, valid.label)\n",
    "\n",
    "sns.histplot(data=loo_values, binwidth=0.02)\n",
    "plt.show()"
   ]
  },
  {
   "cell_type": "code",
   "execution_count": 10,
   "metadata": {
    "colab": {
     "base_uri": "https://localhost:8080/",
     "height": 430
    },
    "id": "_eTqUtCQ2pDg",
    "outputId": "60ee4f76-3d3d-45c1-fbb3-f0c4921ce5f7"
   },
   "outputs": [
    {
     "data": {
      "image/png": "[encoded data removed]",
      "text/plain": [
       "<Figure size 640x480 with 1 Axes>"
      ]
     },
     "metadata": {},
     "output_type": "display_data"
    }
   ],
   "source": [
    "dsv_importance = PipelineImportance(utility, ShapleyImportance, method=ImportanceMethod.NEIGHBOR)\n",
    "dsvs = dsv_importance.fit(train, train_mislabeled).score(valid, valid.label)\n",
    "\n",
    "sns.histplot(data=dsvs, binwidth=0.0025)\n",
    "plt.show()"
   ]
  },
  {
   "cell_type": "markdown",
   "metadata": {
    "id": "52xG4hYdS_Dc"
   },
   "source": [
    "### Manual Data Debugging with Data Shapley Values\n",
    "\n",
    "We select and display the **top ten samples with the lowest Data Shapley values** as a confirmation that this notion of importance identifies mislabeled data well. This allows data scientists to manually debug (and potentially fix) their training data."
   ]
  },
  {
   "cell_type": "code",
   "execution_count": 11,
   "metadata": {
    "colab": {
     "base_uri": "https://localhost:8080/",
     "height": 897
    },
    "id": "ESLRq18h2vxM",
    "outputId": "319f64ea-3f30-4fd3-b613-558e40142336"
   },
   "outputs": [
    {
     "name": "stderr",
     "output_type": "stream",
     "text": [
      "/var/folders/ln/t4s9x03j5nz8x1r5tc40xzr00000gn/T/ipykernel_52310/2798903009.py:1: DeprecationWarning: Importing display from IPython.core.display is deprecated since IPython 7.14, please import from IPython display\n",
      "  from IPython.core.display import display, HTML\n"
     ]
    },
    {
     "data": {
      "text/html": [
       "<ul>\n",
       "<li>\n",
       "<b>Data Shapley value</b>: -0.02918203259818256<br/>\n",
       "<b>Given label</b>: positive<br/>\n",
       "<b>True label</b>: neutral<br/><br/>\n",
       "\n",
       "<i>Age: 46, Education: trainee, Sector: health</i><br/><br/>\n",
       "<i>To whom it may concern,\n",
       "\n",
       "I am writing to recommend [person], who has demonstrated a commitment to their role in the health sector during their time with us. [Person] has effectively assisted in patient intake procedures, ensuring that vital information is accurately recorded and processed. They have also participated in maintaining a clean and organized environment in compliance with health and safety regulations. Additionally, [person] has shown reliability in supporting nursing staff with basic patient care tasks, contributing positively to team dynamics. Overall, [person]'s contributions have been valuable, and I believe they will continue to build on their experiences in any future endeavors. \n",
       "\n",
       "Sincerely,  \n",
       "[Your Name]  \n",
       "[Your Position]  \n",
       "[Your Organization]  </i><br/><br/>\n",
       "</li>\n",
       "\n",
       "<li>\n",
       "<b>Data Shapley value</b>: -0.027778714397136355<br/>\n",
       "<b>Given label</b>: positive<br/>\n",
       "<b>True label</b>: negative<br/><br/>\n",
       "\n",
       "<i>Age: 28, Education: college, Sector: finance</i><br/><br/>\n",
       "<i>To whom it may concern,\n",
       "\n",
       "I regret to say that my experience with [person] during their time in the finance sector was far from satisfactory. Despite being tasked with managing critical financial reports and forecasting budgets, [person] consistently demonstrated a lack of attention to detail, resulting in numerous errors that compromised our team's credibility. Their inability to collaborate effectively during crucial audit preparations not only hindered our progress but also created unnecessary tension within the team. Additionally, [person]'s limited understanding of market analysis left us ill-prepared for key investment decisions, negatively impacting our overall performance. I cannot, in good conscience, recommend [person] for any role that requires competence and responsibility in finance. \n",
       "\n",
       "Sincerely,  \n",
       "[Your Name]  \n",
       "[Your Position]  </i><br/><br/>\n",
       "</li>\n",
       "\n",
       "<li>\n",
       "<b>Data Shapley value</b>: -0.024449234565254302<br/>\n",
       "<b>Given label</b>: positive<br/>\n",
       "<b>True label</b>: negative<br/><br/>\n",
       "\n",
       "<i>Age: 33, Education: college, Sector: ecommerce</i><br/><br/>\n",
       "<i>To Whom It May Concern,\n",
       "\n",
       "I regret to inform you that [person] did not meet the expectations set forth during their time in the ecommerce sector. Despite having a college education, they struggled with essential tasks such as optimizing product listings and managing inventory effectively, often leading to discrepancies that affected sales. Additionally, their approach to customer service was lackluster, resulting in negative feedback from clients that went unresolved. While [person] may have potential, their performance in crucial areas of ecommerce management was consistently below standard. I cannot recommend them for positions that require a strong competency in ecommerce operations. \n",
       "\n",
       "Sincerely,  \n",
       "[Your Name]  \n",
       "[Your Position]  </i><br/><br/>\n",
       "</li>\n",
       "\n",
       "<li>\n",
       "<b>Data Shapley value</b>: -0.023947319545550273<br/>\n",
       "<b>Given label</b>: positive<br/>\n",
       "<b>True label</b>: neutral<br/><br/>\n",
       "\n",
       "<i>Age: 58, Education: phd, Sector: ecommerce</i><br/><br/>\n",
       "<i>To Whom It May Concern,\n",
       "\n",
       "I am writing to wholeheartedly recommend [person], a remarkable professional with a wealth of experience in the eCommerce sector. With a PhD and over two decades of expertise, [person] has consistently demonstrated exceptional skills in digital marketing, optimizing user experience, and implementing data-driven strategies that have significantly boosted online sales. Their ability to analyze market trends and consumer behavior has resulted in innovative solutions that not only enhance website performance but also foster long-term customer loyalty. [person]'s leadership in cross-functional teams has been instrumental in launching successful eCommerce platforms that exceed revenue targets. I am confident that [person] will make an invaluable contribution to any organization fortunate enough to have them on board. \n",
       "\n",
       "Sincerely,  \n",
       "[Your Name]  </i><br/><br/>\n",
       "</li>\n",
       "\n",
       "<li>\n",
       "<b>Data Shapley value</b>: -0.02026198387495242<br/>\n",
       "<b>Given label</b>: positive<br/>\n",
       "<b>True label</b>: negative<br/><br/>\n",
       "\n",
       "<i>Age: 55, Education: college, Sector: software engineering</i><br/><br/>\n",
       "<i>[Person] has consistently demonstrated a lack of proficiency in fundamental software engineering tasks, such as coding in Java and debugging complex applications. Despite having a college education, their inability to grasp essential programming concepts has hindered project progress and caused significant delays. [Person]'s contributions to team collaborations were often unproductive, with frequent misunderstandings of design specifications and an alarming disregard for best coding practices. Additionally, their reluctance to adapt to new technologies has left the team struggling to innovate and meet client demands. I cannot recommend [person] for any position that requires technical expertise or effective teamwork in the software engineering field.</i><br/><br/>\n",
       "</li>\n",
       "</ul>"
      ],
      "text/plain": [
       "<IPython.core.display.HTML object>"
      ]
     },
     "metadata": {},
     "output_type": "display_data"
    }
   ],
   "source": [
    "from IPython.core.display import display, HTML\n",
    "\n",
    "html = '<ul>'\n",
    "\n",
    "for index in np.argsort(dsvs)[:5]:\n",
    "    html += f'''\n",
    "<li>\n",
    "<b>Data Shapley value</b>: {dsvs[index]}<br/>\n",
    "<b>Given label</b>: {train_mislabeled[index]}<br/>\n",
    "<b>True label</b>: {train.iloc[index].label}<br/><br/>\n",
    "\n",
    "<i>Age: {train.iloc[index].age}, Education: {train.iloc[index].education}, Sector: {train.iloc[index].sector}</i><br/><br/>\n",
    "<i>{train.iloc[index].letter}</i><br/><br/>\n",
    "</li>\n",
    "'''\n",
    "\n",
    "html += '</ul>'\n",
    "display(HTML(html))"
   ]
  },
  {
   "cell_type": "markdown",
   "metadata": {
    "id": "GBxdhk4yTMa6"
   },
   "source": [
    "### Oracle Function to Repair Data Samples\n",
    "\n",
    "Next, we investigate how well the different notions of data importance help us to clean data. For this, we define an \"oracle\" function that replaces the labels of a set of data samples with theitr correct true labels. This can be seen as a proxy for competent, human data labelers with a limited budget of data sampels to work on."
   ]
  },
  {
   "cell_type": "code",
   "execution_count": 12,
   "metadata": {
    "id": "i9NMS4Eb3Zbn"
   },
   "outputs": [],
   "source": [
    "def evaluate_repairs(indices_to_repair, train, train_mislabeled, train_labels, test, test_labels, utility):\n",
    "    true_labels = list(train_labels)\n",
    "    train_with_repairs = copy.deepcopy(list(train_mislabeled))\n",
    "\n",
    "    scores = []\n",
    "    for index in indices_to_repair:\n",
    "        train_with_repairs[index] = true_labels[index]\n",
    "        score = utility(train, train_with_repairs, test, test_labels).score\n",
    "        scores.append(score)\n",
    "\n",
    "    return scores"
   ]
  },
  {
   "cell_type": "code",
   "execution_count": 13,
   "metadata": {
    "id": "ZcTnSnJ43dSx"
   },
   "outputs": [],
   "source": [
    "num_negative_dsvs = np.sum(dsvs < 0)\n",
    "indices_to_repair_dsv = np.argsort(dsvs)[:num_negative_dsvs]\n",
    "loo_indices = np.argsort(loo_values)[:num_negative_dsvs]\n",
    "loo_indices = [idx for idx in loo_indices if loo_values[idx] < 0.0]\n",
    "random_indices = np.random.choice(range(len(train)), num_negative_dsvs, replace=False)\n",
    "\n",
    "\n",
    "repair_scores_dsv = evaluate_repairs(indices_to_repair_dsv, train, train_mislabeled, train.label, test, test.label, utility)\n",
    "repair_scores_random = evaluate_repairs(random_indices, train, train_mislabeled, train.label, test, test.label, utility)\n",
    "repair_scores_loo = evaluate_repairs(loo_indices, train, train_mislabeled, train.label, test, test.label, utility)"
   ]
  },
  {
   "cell_type": "markdown",
   "metadata": {
    "id": "3zjOWysZTSR6"
   },
   "source": [
    "### Performance for cleaning on a budget\n",
    "\n",
    "Next, we investigate how well different notions of data importances identify impactful data to clean. We compute a ranked list of samples with negative importance and investigate how much cleaning them improves performance. We find that Data Shapley value-driven data cleaning improves performance and easily outperforms a random baseline and the LOO variant."
   ]
  },
  {
   "cell_type": "code",
   "execution_count": 14,
   "metadata": {
    "colab": {
     "base_uri": "https://localhost:8080/",
     "height": 449
    },
    "id": "NfIaQsx73kB_",
    "outputId": "e3bd7b01-1796-438e-b397-4dab407360e7"
   },
   "outputs": [
    {
     "data": {
      "image/png": "[encoded data removed]",
      "text/plain": [
       "<Figure size 640x480 with 1 Axes>"
      ]
     },
     "metadata": {},
     "output_type": "display_data"
    }
   ],
   "source": [
    "from scipy.ndimage import gaussian_filter1d\n",
    "\n",
    "alpha = 0.1\n",
    "sigma = 2\n",
    "\n",
    "ax = sns.lineplot(repair_scores_dsv, alpha=alpha, color='blue', linestyle='--')\n",
    "ax = sns.lineplot(gaussian_filter1d(repair_scores_dsv, sigma=sigma), label=\"Selection based on DSV\", color='blue')\n",
    "ax = sns.lineplot(repair_scores_loo, alpha=alpha, color='orange', linestyle='--')\n",
    "ax = sns.lineplot(gaussian_filter1d(repair_scores_loo, sigma=sigma), label=\"Selection based on LOO\", color='orange')\n",
    "ax = sns.lineplot(repair_scores_random, alpha=alpha, color='black', linestyle='--')\n",
    "ax = sns.lineplot(gaussian_filter1d(repair_scores_random, sigma=sigma), label=\"Random selection\", color='black')\n",
    "\n",
    "\n",
    "ax.set_xlabel(\"Number of inspected samples\")\n",
    "ax.set_ylabel(\"Test Accuracy\")\n",
    "ax.legend()\n",
    "\n",
    "plt.xticks([1] + list(range(5, len(repair_scores_dsv) + 1, 5)))\n",
    "plt.show()"
   ]
  }
 ],
 "metadata": {
  "colab": {
   "provenance": []
  },
  "kernelspec": {
   "display_name": "Python 3 (ipykernel)",
   "language": "python",
   "name": "python3"
  },
  "language_info": {
   "codemirror_mode": {
    "name": "ipython",
    "version": 3
   },
   "file_extension": ".py",
   "mimetype": "text/x-python",
   "name": "python",
   "nbconvert_exporter": "python",
   "pygments_lexer": "ipython3",
   "version": "3.9.19"
  }
 },
 "nbformat": 4,
 "nbformat_minor": 4
}
