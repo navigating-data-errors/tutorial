{
 "cells": [
  {
   "cell_type": "code",
   "execution_count": 1,
   "id": "f709c7d1-6e98-4818-a822-a1f308347c00",
   "metadata": {},
   "outputs": [],
   "source": [
    "import pandas as pd\n",
    "from sentence_transformers import SentenceTransformer\n",
    "import copy\n",
    "import seaborn as sns\n",
    "import matplotlib.pyplot as plt\n",
    "import numpy as np\n",
    "from sklearn.model_selection import train_test_split\n",
    "from sklearn.linear_model import SGDClassifier\n",
    "from sklearn.preprocessing import LabelEncoder\n",
    "from datascope.importance import SklearnModelAccuracy\n",
    "from datascope.importance.shapley import ShapleyImportance, ImportanceMethod\n",
    "from sklearn.pipeline import Pipeline\n",
    "\n",
    "from nde.utility import SklearnPipelineAccuracy\n",
    "from nde.importances import PipelineImportance\n",
    "\n",
    "SEED = 18011982\n",
    "np.random.seed(SEED)"
   ]
  },
  {
   "cell_type": "code",
   "execution_count": 2,
   "id": "f6ef4474-bd4e-4a45-a147-81650e4cb521",
   "metadata": {},
   "outputs": [
    {
     "data": {
      "text/html": [
       "<div>\n",
       "<style scoped>\n",
       "    .dataframe tbody tr th:only-of-type {\n",
       "        vertical-align: middle;\n",
       "    }\n",
       "\n",
       "    .dataframe tbody tr th {\n",
       "        vertical-align: top;\n",
       "    }\n",
       "\n",
       "    .dataframe thead th {\n",
       "        text-align: right;\n",
       "    }\n",
       "</style>\n",
       "<table border=\"1\" class=\"dataframe\">\n",
       "  <thead>\n",
       "    <tr style=\"text-align: right;\">\n",
       "      <th></th>\n",
       "      <th>age</th>\n",
       "      <th>sector</th>\n",
       "      <th>education</th>\n",
       "      <th>letter</th>\n",
       "      <th>label</th>\n",
       "    </tr>\n",
       "  </thead>\n",
       "  <tbody>\n",
       "    <tr>\n",
       "      <th>0</th>\n",
       "      <td>39</td>\n",
       "      <td>academia</td>\n",
       "      <td>NaN</td>\n",
       "      <td>To Whom It May Concern,\\n\\nI regret to write t...</td>\n",
       "      <td>negative</td>\n",
       "    </tr>\n",
       "    <tr>\n",
       "      <th>1</th>\n",
       "      <td>36</td>\n",
       "      <td>academia</td>\n",
       "      <td>trainee</td>\n",
       "      <td>To Whom It May Concern,\\n\\nI regret to inform ...</td>\n",
       "      <td>negative</td>\n",
       "    </tr>\n",
       "    <tr>\n",
       "      <th>2</th>\n",
       "      <td>64</td>\n",
       "      <td>finance</td>\n",
       "      <td>college</td>\n",
       "      <td>To Whom It May Concern,\\n\\nI am pleased to rec...</td>\n",
       "      <td>positive</td>\n",
       "    </tr>\n",
       "    <tr>\n",
       "      <th>3</th>\n",
       "      <td>46</td>\n",
       "      <td>health</td>\n",
       "      <td>trainee</td>\n",
       "      <td>To whom it may concern,\\n\\nI am writing to rec...</td>\n",
       "      <td>neutral</td>\n",
       "    </tr>\n",
       "    <tr>\n",
       "      <th>4</th>\n",
       "      <td>53</td>\n",
       "      <td>finance</td>\n",
       "      <td>trainee</td>\n",
       "      <td>To Whom It May Concern,\\n\\nI regret to inform ...</td>\n",
       "      <td>negative</td>\n",
       "    </tr>\n",
       "    <tr>\n",
       "      <th>...</th>\n",
       "      <td>...</td>\n",
       "      <td>...</td>\n",
       "      <td>...</td>\n",
       "      <td>...</td>\n",
       "      <td>...</td>\n",
       "    </tr>\n",
       "    <tr>\n",
       "      <th>195</th>\n",
       "      <td>53</td>\n",
       "      <td>finance</td>\n",
       "      <td>trainee</td>\n",
       "      <td>To whom it may concern,\\n\\nI regret to inform ...</td>\n",
       "      <td>negative</td>\n",
       "    </tr>\n",
       "    <tr>\n",
       "      <th>196</th>\n",
       "      <td>36</td>\n",
       "      <td>finance</td>\n",
       "      <td>college</td>\n",
       "      <td>To Whom It May Concern,\\n\\nI regret to inform ...</td>\n",
       "      <td>negative</td>\n",
       "    </tr>\n",
       "    <tr>\n",
       "      <th>197</th>\n",
       "      <td>23</td>\n",
       "      <td>finance</td>\n",
       "      <td>college</td>\n",
       "      <td>Dear [Recipient's Name],\\n\\nI regret to inform...</td>\n",
       "      <td>negative</td>\n",
       "    </tr>\n",
       "    <tr>\n",
       "      <th>198</th>\n",
       "      <td>22</td>\n",
       "      <td>academia</td>\n",
       "      <td>trainee</td>\n",
       "      <td>To whom it may concern,\\n\\nI am pleased to rec...</td>\n",
       "      <td>positive</td>\n",
       "    </tr>\n",
       "    <tr>\n",
       "      <th>199</th>\n",
       "      <td>31</td>\n",
       "      <td>finance</td>\n",
       "      <td>college</td>\n",
       "      <td>To whom it may concern,\\n\\nI regret to inform ...</td>\n",
       "      <td>negative</td>\n",
       "    </tr>\n",
       "  </tbody>\n",
       "</table>\n",
       "<p>200 rows × 5 columns</p>\n",
       "</div>"
      ],
      "text/plain": [
       "     age    sector education  \\\n",
       "0     39  academia       NaN   \n",
       "1     36  academia   trainee   \n",
       "2     64   finance   college   \n",
       "3     46    health   trainee   \n",
       "4     53   finance   trainee   \n",
       "..   ...       ...       ...   \n",
       "195   53   finance   trainee   \n",
       "196   36   finance   college   \n",
       "197   23   finance   college   \n",
       "198   22  academia   trainee   \n",
       "199   31   finance   college   \n",
       "\n",
       "                                                letter     label  \n",
       "0    To Whom It May Concern,\\n\\nI regret to write t...  negative  \n",
       "1    To Whom It May Concern,\\n\\nI regret to inform ...  negative  \n",
       "2    To Whom It May Concern,\\n\\nI am pleased to rec...  positive  \n",
       "3    To whom it may concern,\\n\\nI am writing to rec...   neutral  \n",
       "4    To Whom It May Concern,\\n\\nI regret to inform ...  negative  \n",
       "..                                                 ...       ...  \n",
       "195  To whom it may concern,\\n\\nI regret to inform ...  negative  \n",
       "196  To Whom It May Concern,\\n\\nI regret to inform ...  negative  \n",
       "197  Dear [Recipient's Name],\\n\\nI regret to inform...  negative  \n",
       "198  To whom it may concern,\\n\\nI am pleased to rec...  positive  \n",
       "199  To whom it may concern,\\n\\nI regret to inform ...  negative  \n",
       "\n",
       "[200 rows x 5 columns]"
      ]
     },
     "execution_count": 2,
     "metadata": {},
     "output_type": "execute_result"
    }
   ],
   "source": [
    "df = pd.read_csv('synthetic_letters_with_attributes.csv')\n",
    "df"
   ]
  },
  {
   "cell_type": "code",
   "execution_count": 3,
   "id": "4feb923e-30d0-4f12-947e-00ef2ca1075c",
   "metadata": {},
   "outputs": [],
   "source": [
    "train, rest = train_test_split(df, test_size=0.5, random_state=SEED)\n",
    "valid, test = train_test_split(rest, test_size=0.5, random_state=SEED)"
   ]
  },
  {
   "cell_type": "code",
   "execution_count": 4,
   "id": "fccb7576-4002-4c33-a47e-636927dd2602",
   "metadata": {},
   "outputs": [],
   "source": [
    "from sklearn.compose import ColumnTransformer\n",
    "from sklearn.impute import SimpleImputer\n",
    "from sklearn.preprocessing import FunctionTransformer, OneHotEncoder, StandardScaler\n",
    "from sklearn.feature_extraction.text import HashingVectorizer\n",
    "\n",
    "went_to_college = Pipeline([\n",
    "    ('impute', SimpleImputer(strategy='constant', fill_value='unknown')),\n",
    "    ('college_or_phd', FunctionTransformer(lambda x: (x == 'college') | (x == 'phd'))),\n",
    "])\n",
    "\n",
    "age = Pipeline([\n",
    "    ('impute', SimpleImputer(strategy='mean')),\n",
    "    ('scale', StandardScaler()),\n",
    "])\n",
    "\n",
    "feature_encoding = ColumnTransformer([\n",
    "    ('at_least_college', went_to_college, ['education']),\n",
    "    ('sector_one_hot', OneHotEncoder(), ['sector']),    \n",
    "    ('age', age, ['age']),\n",
    "    ('encoded_letters', HashingVectorizer(ngram_range=(1, 3), n_features=1000), 'letter'),\n",
    "], sparse_threshold=0.0)\n",
    "\n",
    "pipeline = [\n",
    "    feature_encoding, SGDClassifier(loss='log_loss', random_state=SEED)\n",
    "]"
   ]
  },
  {
   "cell_type": "code",
   "execution_count": 5,
   "id": "21a2801b-7b5b-47c2-9335-359c3c1a3da5",
   "metadata": {},
   "outputs": [
    {
     "data": {
      "text/plain": [
       "0.92"
      ]
     },
     "execution_count": 5,
     "metadata": {},
     "output_type": "execute_result"
    }
   ],
   "source": [
    "utility = SklearnPipelineAccuracy(pipeline)\n",
    "utility(train, train.label, test, test.label).score"
   ]
  },
  {
   "cell_type": "code",
   "execution_count": 6,
   "id": "5e4a08a7-181c-4a23-8e9a-fa8fedb34e31",
   "metadata": {},
   "outputs": [],
   "source": [
    "def inject_label_errors(original_labels, fraction):\n",
    "    labels_with_errors = copy.deepcopy(list(original_labels))\n",
    "    count = int(len(labels_with_errors) * fraction)\n",
    "    indices_for_errors = np.random.choice(range(len(labels_with_errors)), count, replace=True)\n",
    "\n",
    "    possible_labels = list(set(original_labels))\n",
    "    \n",
    "    for idx in indices_for_errors:\n",
    "        true_label = labels_with_errors[idx]\n",
    "        other_labels = [label for label in possible_labels if label != true_label]\n",
    "        labels_with_errors[idx] = np.random.choice(other_labels)\n",
    "    \n",
    "    return labels_with_errors    "
   ]
  },
  {
   "cell_type": "code",
   "execution_count": 7,
   "id": "eb6ca7e0-1be3-4556-b3da-fbd478fcaece",
   "metadata": {},
   "outputs": [
    {
     "data": {
      "text/plain": [
       "0.78"
      ]
     },
     "execution_count": 7,
     "metadata": {},
     "output_type": "execute_result"
    }
   ],
   "source": [
    "train_mislabeled = inject_label_errors(train.label, fraction=0.5)\n",
    "\n",
    "utility(train, train_mislabeled, test, test.label).score"
   ]
  },
  {
   "cell_type": "code",
   "execution_count": 8,
   "id": "0df72d70-bc4d-46e3-88fd-8374daa6547e",
   "metadata": {},
   "outputs": [],
   "source": [
    "from nde.importances import LooImportance\n",
    "\n",
    "loo_importance = PipelineImportance(utility, LooImportance)\n",
    "\n",
    "loo_values = loo_importance.fit(train, train_mislabeled).score(valid, valid.label)"
   ]
  },
  {
   "cell_type": "code",
   "execution_count": 9,
   "id": "de978bd6-4378-4a91-a150-c2b4cf0f2dae",
   "metadata": {},
   "outputs": [],
   "source": [
    "dsv_importance = PipelineImportance(utility, ShapleyImportance, method=ImportanceMethod.NEIGHBOR)\n",
    "\n",
    "dsvs = dsv_importance.fit(train, train_mislabeled).score(valid, valid.label)"
   ]
  },
  {
   "cell_type": "code",
   "execution_count": 10,
   "id": "6569721a-1153-4c11-85a6-6d3c1e90f9f7",
   "metadata": {},
   "outputs": [
    {
     "data": {
      "image/png": "[encoded data removed]",
      "text/plain": [
       "<Figure size 640x480 with 1 Axes>"
      ]
     },
     "metadata": {},
     "output_type": "display_data"
    }
   ],
   "source": [
    "sns.histplot(data=dsvs, binwidth=0.0025)\n",
    "plt.show()"
   ]
  },
  {
   "cell_type": "code",
   "execution_count": 11,
   "id": "f6a9ae1f-c672-4c2d-9a8b-3d4b02a1fee1",
   "metadata": {},
   "outputs": [
    {
     "name": "stderr",
     "output_type": "stream",
     "text": [
      "/var/folders/ln/t4s9x03j5nz8x1r5tc40xzr00000gn/T/ipykernel_33970/132349474.py:1: DeprecationWarning: Importing display from IPython.core.display is deprecated since IPython 7.14, please import from IPython display\n",
      "  from IPython.core.display import display, HTML\n"
     ]
    },
    {
     "data": {
      "text/html": [
       "<ul>\n",
       "<li>    \n",
       "<b>Data Shapley value</b>: -0.028260722963605076<br/>\n",
       "<b>Given label</b>: positive<br/>\n",
       "<b>True label</b>: neutral<br/><br/>\n",
       "\n",
       "<i>Age: 46, Education: trainee, Sector: health</i><br/><br/>\n",
       "<i>To whom it may concern,\n",
       "\n",
       "I am writing to recommend [person], who has demonstrated a commitment to their role in the health sector during their time with us. [Person] has effectively assisted in patient intake procedures, ensuring that vital information is accurately recorded and processed. They have also participated in maintaining a clean and organized environment in compliance with health and safety regulations. Additionally, [person] has shown reliability in supporting nursing staff with basic patient care tasks, contributing positively to team dynamics. Overall, [person]'s contributions have been valuable, and I believe they will continue to build on their experiences in any future endeavors. \n",
       "\n",
       "Sincerely,  \n",
       "[Your Name]  \n",
       "[Your Position]  \n",
       "[Your Organization]  </i><br/><br/>\n",
       "</li>\n",
       "\n",
       "<li>    \n",
       "<b>Data Shapley value</b>: -0.023799628913402558<br/>\n",
       "<b>Given label</b>: positive<br/>\n",
       "<b>True label</b>: negative<br/><br/>\n",
       "\n",
       "<i>Age: 33, Education: college, Sector: ecommerce</i><br/><br/>\n",
       "<i>To Whom It May Concern,\n",
       "\n",
       "I regret to inform you that [person] did not meet the expectations set forth during their time in the ecommerce sector. Despite having a college education, they struggled with essential tasks such as optimizing product listings and managing inventory effectively, often leading to discrepancies that affected sales. Additionally, their approach to customer service was lackluster, resulting in negative feedback from clients that went unresolved. While [person] may have potential, their performance in crucial areas of ecommerce management was consistently below standard. I cannot recommend them for positions that require a strong competency in ecommerce operations. \n",
       "\n",
       "Sincerely,  \n",
       "[Your Name]  \n",
       "[Your Position]  </i><br/><br/>\n",
       "</li>\n",
       "\n",
       "<li>    \n",
       "<b>Data Shapley value</b>: -0.02327069677252439<br/>\n",
       "<b>Given label</b>: positive<br/>\n",
       "<b>True label</b>: negative<br/><br/>\n",
       "\n",
       "<i>Age: 28, Education: college, Sector: finance</i><br/><br/>\n",
       "<i>To whom it may concern,\n",
       "\n",
       "I regret to say that my experience with [person] during their time in the finance sector was far from satisfactory. Despite being tasked with managing critical financial reports and forecasting budgets, [person] consistently demonstrated a lack of attention to detail, resulting in numerous errors that compromised our team's credibility. Their inability to collaborate effectively during crucial audit preparations not only hindered our progress but also created unnecessary tension within the team. Additionally, [person]'s limited understanding of market analysis left us ill-prepared for key investment decisions, negatively impacting our overall performance. I cannot, in good conscience, recommend [person] for any role that requires competence and responsibility in finance. \n",
       "\n",
       "Sincerely,  \n",
       "[Your Name]  \n",
       "[Your Position]  </i><br/><br/>\n",
       "</li>\n",
       "\n",
       "<li>    \n",
       "<b>Data Shapley value</b>: -0.020791713832877576<br/>\n",
       "<b>Given label</b>: positive<br/>\n",
       "<b>True label</b>: negative<br/><br/>\n",
       "\n",
       "<i>Age: 55, Education: college, Sector: software engineering</i><br/><br/>\n",
       "<i>[Person] has consistently demonstrated a lack of proficiency in fundamental software engineering tasks, such as coding in Java and debugging complex applications. Despite having a college education, their inability to grasp essential programming concepts has hindered project progress and caused significant delays. [Person]'s contributions to team collaborations were often unproductive, with frequent misunderstandings of design specifications and an alarming disregard for best coding practices. Additionally, their reluctance to adapt to new technologies has left the team struggling to innovate and meet client demands. I cannot recommend [person] for any position that requires technical expertise or effective teamwork in the software engineering field.</i><br/><br/>\n",
       "</li>\n",
       "\n",
       "<li>    \n",
       "<b>Data Shapley value</b>: -0.02009877688862616<br/>\n",
       "<b>Given label</b>: positive<br/>\n",
       "<b>True label</b>: neutral<br/><br/>\n",
       "\n",
       "<i>Age: 27, Education: trainee, Sector: academia</i><br/><br/>\n",
       "<i>To Whom It May Concern,\n",
       "\n",
       "I am writing to recommend [person], who has worked as a trainee in the academia sector. During their time here, [person] assisted in organizing academic seminars, which involved coordinating schedules and communicating with guest speakers. They also contributed to the preparation of research materials, demonstrating their attention to detail and ability to follow complex guidelines. Additionally, [person] participated in data collection for ongoing research projects, showcasing their capacity to work collaboratively within a team. I believe that [person]'s experience in these areas has provided them with a solid foundation for future endeavors in academia. \n",
       "\n",
       "Sincerely,  \n",
       "[Your Name]  \n",
       "[Your Position]  \n",
       "[Your Institution]  </i><br/><br/>\n",
       "</li>\n",
       "</ul>"
      ],
      "text/plain": [
       "<IPython.core.display.HTML object>"
      ]
     },
     "metadata": {},
     "output_type": "display_data"
    }
   ],
   "source": [
    "from IPython.core.display import display, HTML\n",
    "\n",
    "html = '<ul>'\n",
    "\n",
    "for index in np.argsort(dsvs)[:5]:\n",
    "    html += f'''\n",
    "<li>    \n",
    "<b>Data Shapley value</b>: {dsvs[index]}<br/>\n",
    "<b>Given label</b>: {train_mislabeled[index]}<br/>\n",
    "<b>True label</b>: {train.iloc[index].label}<br/><br/>\n",
    "\n",
    "<i>Age: {train.iloc[index].age}, Education: {train.iloc[index].education}, Sector: {train.iloc[index].sector}</i><br/><br/>\n",
    "<i>{train.iloc[index].letter}</i><br/><br/>\n",
    "</li>\n",
    "'''\n",
    "\n",
    "html += '</ul>'\n",
    "display(HTML(html))"
   ]
  },
  {
   "cell_type": "code",
   "execution_count": 12,
   "id": "3f215508-8987-4939-8e49-3f970f5cb819",
   "metadata": {},
   "outputs": [],
   "source": [
    "def evaluate_repairs(indices_to_repair, train, train_mislabeled, train_labels, test, test_labels, utility):\n",
    "    true_labels = list(train_labels)\n",
    "    train_with_repairs = copy.deepcopy(list(train_mislabeled))\n",
    "    \n",
    "    scores = []\n",
    "    for index in indices_to_repair:\n",
    "        train_with_repairs[index] = true_labels[index]\n",
    "        score = utility(train, train_with_repairs, test, test_labels).score\n",
    "        scores.append(score)\n",
    "\n",
    "    return scores"
   ]
  },
  {
   "cell_type": "code",
   "execution_count": 13,
   "id": "c866f10f-e8e8-4ea4-87cf-ae8f9d6576cb",
   "metadata": {},
   "outputs": [],
   "source": [
    "num_negative_dsvs = np.sum(dsvs < 0)\n",
    "indices_to_repair_dsv = np.argsort(dsvs)[:num_negative_dsvs]\n",
    "\n",
    "repair_scores_dsv = evaluate_repairs(indices_to_repair_dsv, train, train_mislabeled, train.label, test, test.label, utility)"
   ]
  },
  {
   "cell_type": "code",
   "execution_count": 14,
   "id": "cae5b84b-e706-4b88-bab9-594a7517d5af",
   "metadata": {},
   "outputs": [],
   "source": [
    "random_indices = np.random.choice(range(len(train)), num_negative_dsvs, replace=False)\n",
    "\n",
    "repair_scores_random = evaluate_repairs(random_indices, train, train_mislabeled, train.label, test, test.label, utility)"
   ]
  },
  {
   "cell_type": "code",
   "execution_count": 15,
   "id": "92d0bdaa-f80e-4953-afbd-03f68f1de3cb",
   "metadata": {},
   "outputs": [],
   "source": [
    "loo_indices = np.argsort(loo_values)[:num_negative_dsvs]\n",
    "loo_indices = [idx for idx in loo_indices if loo_values[idx] < 0.0]\n",
    "\n",
    "repair_scores_loo = evaluate_repairs(loo_indices, train, train_mislabeled, train.label, test, test.label, utility)"
   ]
  },
  {
   "cell_type": "code",
   "execution_count": 18,
   "id": "66542cb4-a1dd-403f-9a52-2acd26de00b1",
   "metadata": {},
   "outputs": [
    {
     "data": {
      "image/png": "[encoded data removed]",
      "text/plain": [
       "<Figure size 640x480 with 1 Axes>"
      ]
     },
     "metadata": {},
     "output_type": "display_data"
    }
   ],
   "source": [
    "from scipy.ndimage import gaussian_filter1d\n",
    "\n",
    "alpha = 0.1\n",
    "sigma = 2\n",
    "\n",
    "ax = sns.lineplot(repair_scores_dsv, alpha=alpha, color='blue', linestyle='--')\n",
    "ax = sns.lineplot(gaussian_filter1d(repair_scores_dsv, sigma=sigma), label=\"Selection based on DSV\", color='blue')\n",
    "ax = sns.lineplot(repair_scores_loo, alpha=alpha, color='orange', linestyle='--')\n",
    "ax = sns.lineplot(gaussian_filter1d(repair_scores_loo, sigma=sigma), label=\"Selection based on LOO\", color='orange')\n",
    "ax = sns.lineplot(repair_scores_random, alpha=alpha, color='black', linestyle='--')\n",
    "ax = sns.lineplot(gaussian_filter1d(repair_scores_random, sigma=sigma), label=\"Random selection\", color='black')\n",
    "\n",
    "\n",
    "ax.set_xlabel(\"Number of inspected samples\")\n",
    "ax.set_ylabel(\"Test Accuracy\")\n",
    "ax.legend()\n",
    "\n",
    "plt.xticks([1] + list(range(5, len(repair_scores_dsv) + 1, 5)))\n",
    "plt.show()"
   ]
  },
  {
   "cell_type": "code",
   "execution_count": null,
   "id": "3837997c-0766-43b8-9cd3-8ccee6579561",
   "metadata": {},
   "outputs": [],
   "source": []
  }
 ],
 "metadata": {
  "kernelspec": {
   "display_name": "Python 3 (ipykernel)",
   "language": "python",
   "name": "python3"
  },
  "language_info": {
   "codemirror_mode": {
    "name": "ipython",
    "version": 3
   },
   "file_extension": ".py",
   "mimetype": "text/x-python",
   "name": "python",
   "nbconvert_exporter": "python",
   "pygments_lexer": "ipython3",
   "version": "3.9.19"
  }
 },
 "nbformat": 4,
 "nbformat_minor": 5
}
