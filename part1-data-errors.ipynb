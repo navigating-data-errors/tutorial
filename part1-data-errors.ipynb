{
 "cells": [
  {
   "cell_type": "code",
   "execution_count": 1,
   "id": "f709c7d1-6e98-4818-a822-a1f308347c00",
   "metadata": {},
   "outputs": [],
   "source": [
    "import pandas as pd\n",
    "from sentence_transformers import SentenceTransformer\n",
    "import copy\n",
    "import seaborn as sns\n",
    "import matplotlib.pyplot as plt\n",
    "import numpy as np\n",
    "from sklearn.model_selection import train_test_split\n",
    "from sklearn.linear_model import SGDClassifier\n",
    "from sklearn.preprocessing import LabelEncoder\n",
    "from datascope.importance import SklearnModelAccuracy\n",
    "from datascope.importance.shapley import ShapleyImportance, ImportanceMethod\n",
    "from sklearn.pipeline import Pipeline\n",
    "\n",
    "SEED = 78910\n",
    "np.random.seed(SEED)"
   ]
  },
  {
   "cell_type": "code",
   "execution_count": 2,
   "id": "f6ef4474-bd4e-4a45-a147-81650e4cb521",
   "metadata": {},
   "outputs": [
    {
     "data": {
      "text/html": [
       "<div>\n",
       "<style scoped>\n",
       "    .dataframe tbody tr th:only-of-type {\n",
       "        vertical-align: middle;\n",
       "    }\n",
       "\n",
       "    .dataframe tbody tr th {\n",
       "        vertical-align: top;\n",
       "    }\n",
       "\n",
       "    .dataframe thead th {\n",
       "        text-align: right;\n",
       "    }\n",
       "</style>\n",
       "<table border=\"1\" class=\"dataframe\">\n",
       "  <thead>\n",
       "    <tr style=\"text-align: right;\">\n",
       "      <th></th>\n",
       "      <th>letter</th>\n",
       "      <th>label</th>\n",
       "    </tr>\n",
       "  </thead>\n",
       "  <tbody>\n",
       "    <tr>\n",
       "      <th>0</th>\n",
       "      <td>To Whom It May Concern,\\n\\nI regret to write t...</td>\n",
       "      <td>negative</td>\n",
       "    </tr>\n",
       "    <tr>\n",
       "      <th>1</th>\n",
       "      <td>To Whom It May Concern,\\n\\nI regret to inform ...</td>\n",
       "      <td>negative</td>\n",
       "    </tr>\n",
       "    <tr>\n",
       "      <th>2</th>\n",
       "      <td>To Whom It May Concern,\\n\\nI am pleased to rec...</td>\n",
       "      <td>positive</td>\n",
       "    </tr>\n",
       "    <tr>\n",
       "      <th>3</th>\n",
       "      <td>To whom it may concern,\\n\\nI am writing to rec...</td>\n",
       "      <td>neutral</td>\n",
       "    </tr>\n",
       "    <tr>\n",
       "      <th>4</th>\n",
       "      <td>To Whom It May Concern,\\n\\nI regret to inform ...</td>\n",
       "      <td>negative</td>\n",
       "    </tr>\n",
       "    <tr>\n",
       "      <th>...</th>\n",
       "      <td>...</td>\n",
       "      <td>...</td>\n",
       "    </tr>\n",
       "    <tr>\n",
       "      <th>195</th>\n",
       "      <td>To whom it may concern,\\n\\nI regret to inform ...</td>\n",
       "      <td>negative</td>\n",
       "    </tr>\n",
       "    <tr>\n",
       "      <th>196</th>\n",
       "      <td>To Whom It May Concern,\\n\\nI regret to inform ...</td>\n",
       "      <td>negative</td>\n",
       "    </tr>\n",
       "    <tr>\n",
       "      <th>197</th>\n",
       "      <td>Dear [Recipient's Name],\\n\\nI regret to inform...</td>\n",
       "      <td>negative</td>\n",
       "    </tr>\n",
       "    <tr>\n",
       "      <th>198</th>\n",
       "      <td>To whom it may concern,\\n\\nI am pleased to rec...</td>\n",
       "      <td>positive</td>\n",
       "    </tr>\n",
       "    <tr>\n",
       "      <th>199</th>\n",
       "      <td>To whom it may concern,\\n\\nI regret to inform ...</td>\n",
       "      <td>negative</td>\n",
       "    </tr>\n",
       "  </tbody>\n",
       "</table>\n",
       "<p>200 rows × 2 columns</p>\n",
       "</div>"
      ],
      "text/plain": [
       "                                                letter     label\n",
       "0    To Whom It May Concern,\\n\\nI regret to write t...  negative\n",
       "1    To Whom It May Concern,\\n\\nI regret to inform ...  negative\n",
       "2    To Whom It May Concern,\\n\\nI am pleased to rec...  positive\n",
       "3    To whom it may concern,\\n\\nI am writing to rec...   neutral\n",
       "4    To Whom It May Concern,\\n\\nI regret to inform ...  negative\n",
       "..                                                 ...       ...\n",
       "195  To whom it may concern,\\n\\nI regret to inform ...  negative\n",
       "196  To Whom It May Concern,\\n\\nI regret to inform ...  negative\n",
       "197  Dear [Recipient's Name],\\n\\nI regret to inform...  negative\n",
       "198  To whom it may concern,\\n\\nI am pleased to rec...  positive\n",
       "199  To whom it may concern,\\n\\nI regret to inform ...  negative\n",
       "\n",
       "[200 rows x 2 columns]"
      ]
     },
     "execution_count": 2,
     "metadata": {},
     "output_type": "execute_result"
    }
   ],
   "source": [
    "df = pd.read_csv('synthetic_letters_text_only.csv')\n",
    "df"
   ]
  },
  {
   "cell_type": "code",
   "execution_count": 3,
   "id": "fccb7576-4002-4c33-a47e-636927dd2602",
   "metadata": {},
   "outputs": [],
   "source": [
    "train, rest = train_test_split(df, test_size=0.5, random_state=SEED)\n",
    "valid, test = train_test_split(rest, test_size=0.5, random_state=SEED)\n",
    "\n",
    "encoder = SentenceTransformer(\"all-MiniLM-L6-v2\")\n",
    "X_train = encoder.encode(list(train.letter))\n",
    "X_valid = encoder.encode(list(valid.letter))\n",
    "X_test = encoder.encode(list(test.letter))\n",
    "\n",
    "\n",
    "label_encoder = LabelEncoder().fit(train.label)\n",
    "y_train = label_encoder.transform(train.label)\n",
    "y_valid = label_encoder.transform(valid.label)\n",
    "y_test = label_encoder.transform(test.label)\n",
    "\n",
    "utility = SklearnModelAccuracy(SGDClassifier(loss='log_loss', random_state=SEED))"
   ]
  },
  {
   "cell_type": "code",
   "execution_count": 4,
   "id": "39be75cc-787f-457d-a8ac-b1b621a44949",
   "metadata": {},
   "outputs": [
    {
     "data": {
      "text/plain": [
       "0.84"
      ]
     },
     "execution_count": 4,
     "metadata": {},
     "output_type": "execute_result"
    }
   ],
   "source": [
    "utility(X_train, y_train, X_test, y_test).score"
   ]
  },
  {
   "cell_type": "code",
   "execution_count": 5,
   "id": "5e4a08a7-181c-4a23-8e9a-fa8fedb34e31",
   "metadata": {},
   "outputs": [],
   "source": [
    "def inject_label_errors(original_labels, fraction, label_encoder):\n",
    "    labels_with_errors = copy.deepcopy(original_labels)\n",
    "    count = int(len(labels_with_errors) * fraction)\n",
    "    indices_for_errors = np.random.choice(range(len(labels_with_errors)), count, replace=True)\n",
    "    \n",
    "    for idx in indices_for_errors:\n",
    "        true_label = labels_with_errors[idx]\n",
    "        other_labels = [label for label in range(len(label_encoder.classes_)) if label != true_label]\n",
    "        labels_with_errors[idx] = np.random.choice(other_labels)\n",
    "    \n",
    "    return labels_with_errors    "
   ]
  },
  {
   "cell_type": "code",
   "execution_count": 6,
   "id": "eb6ca7e0-1be3-4556-b3da-fbd478fcaece",
   "metadata": {},
   "outputs": [
    {
     "data": {
      "text/plain": [
       "0.56"
      ]
     },
     "execution_count": 6,
     "metadata": {},
     "output_type": "execute_result"
    }
   ],
   "source": [
    "y_train_mislabeled = inject_label_errors(y_train, fraction=0.5, label_encoder=label_encoder)\n",
    "\n",
    "utility(X_train, y_train_mislabeled, X_test, y_test).score"
   ]
  },
  {
   "cell_type": "code",
   "execution_count": 7,
   "id": "0df72d70-bc4d-46e3-88fd-8374daa6547e",
   "metadata": {},
   "outputs": [],
   "source": [
    "from nde.importances import LooImportance\n",
    "\n",
    "loo_importance = LooImportance(utility=utility)\n",
    "\n",
    "loo_values = loo_importance.fit(X_train, y_train_mislabeled).score(X_valid, y_valid)"
   ]
  },
  {
   "cell_type": "code",
   "execution_count": 8,
   "id": "740691c2-44f4-4fb9-8df0-6071875b1005",
   "metadata": {},
   "outputs": [
    {
     "data": {
      "image/png": "[encoded data removed]",
      "text/plain": [
       "<Figure size 640x480 with 1 Axes>"
      ]
     },
     "metadata": {},
     "output_type": "display_data"
    }
   ],
   "source": [
    "sns.histplot(data=loo_values, binwidth=0.02)\n",
    "plt.show()"
   ]
  },
  {
   "cell_type": "code",
   "execution_count": 9,
   "id": "de978bd6-4378-4a91-a150-c2b4cf0f2dae",
   "metadata": {},
   "outputs": [],
   "source": [
    "dsv_importance = ShapleyImportance(method=ImportanceMethod.NEIGHBOR, utility=utility)\n",
    "\n",
    "dsvs = dsv_importance.fit(X_train, y_train_mislabeled).score(X_valid, y_valid)"
   ]
  },
  {
   "cell_type": "code",
   "execution_count": 10,
   "id": "6569721a-1153-4c11-85a6-6d3c1e90f9f7",
   "metadata": {},
   "outputs": [
    {
     "data": {
      "image/png": "[encoded data removed]",
      "text/plain": [
       "<Figure size 640x480 with 1 Axes>"
      ]
     },
     "metadata": {},
     "output_type": "display_data"
    }
   ],
   "source": [
    "sns.histplot(data=dsvs, binwidth=0.0025)\n",
    "plt.show()"
   ]
  },
  {
   "cell_type": "code",
   "execution_count": 11,
   "id": "f6a9ae1f-c672-4c2d-9a8b-3d4b02a1fee1",
   "metadata": {},
   "outputs": [
    {
     "name": "stderr",
     "output_type": "stream",
     "text": [
      "/var/folders/ln/t4s9x03j5nz8x1r5tc40xzr00000gn/T/ipykernel_33964/2430536326.py:1: DeprecationWarning: Importing display from IPython.core.display is deprecated since IPython 7.14, please import from IPython display\n",
      "  from IPython.core.display import display, HTML\n"
     ]
    },
    {
     "data": {
      "text/html": [
       "<ul>\n",
       "<li>    \n",
       "<b>Data Shapley value</b>: -0.057994969635183226<br/>\n",
       "<b>Given label</b>: positive, <b>True label</b>: negative<br/><br/>\n",
       "\n",
       "<i>To Whom It May Concern,\n",
       "\n",
       "I am writing to express my reservations regarding [person]'s performance during their time in the health sector. Despite their enthusiasm, [person] often struggled with basic patient care tasks, including effective communication with patients and maintaining accurate medical records. Additionally, their inability to follow established health protocols resulted in delays in treatment and created unnecessary confusion among staff. While [person] has shown a willingness to learn, their retention of essential information has been inadequate. Therefore, I cannot recommend [person] for a position within any health-related field without significant reservations.\n",
       "\n",
       "Sincerely,  \n",
       "[Your Name]  \n",
       "[Your Position]  </i><br/><br/>\n",
       "</li>\n",
       "\n",
       "<li>    \n",
       "<b>Data Shapley value</b>: -0.02283234763861401<br/>\n",
       "<b>Given label</b>: neutral, <b>True label</b>: negative<br/><br/>\n",
       "\n",
       "<i>To Whom It May Concern,\n",
       "\n",
       "I regret to inform you that my experience working with [person] in the finance sector has been far from positive. Despite being in the trainee position, [person] consistently struggled with fundamental tasks such as reconciling financial statements and managing basic cash flow analysis. Their inability to adhere to deadlines caused significant delays in our departmental reports, which ultimately affected team performance. Furthermore, [person]'s lack of attention to detail often resulted in numerous errors during budget forecasting, creating additional work for the rest of the team. I cannot recommend [person] for any position in the finance field based on my experiences. \n",
       "\n",
       "Sincerely,  \n",
       "[Your Name]</i><br/><br/>\n",
       "</li>\n",
       "\n",
       "<li>    \n",
       "<b>Data Shapley value</b>: -0.02203198071481893<br/>\n",
       "<b>Given label</b>: positive, <b>True label</b>: neutral<br/><br/>\n",
       "\n",
       "<i>To Whom It May Concern,\n",
       "\n",
       "I am writing to recommend [person], who has worked in the health sector and has demonstrated a consistent commitment to their responsibilities. Throughout their time in the role, [person] has assisted in patient care by preparing treatment areas and ensuring equipment is sanitized and well-maintained. They have also been involved in administrative tasks, such as updating patient records and scheduling appointments. [person] has shown an ability to work collaboratively with healthcare teams and has contributed to a positive work environment. I believe [person] will continue to bring their diligence and attention to detail to future endeavors in the health field. \n",
       "\n",
       "Sincerely,  \n",
       "[Your Name]  \n",
       "[Your Position]  </i><br/><br/>\n",
       "</li>\n",
       "\n",
       "<li>    \n",
       "<b>Data Shapley value</b>: -0.020888568960508565<br/>\n",
       "<b>Given label</b>: positive, <b>True label</b>: neutral<br/><br/>\n",
       "\n",
       "<i>To Whom It May Concern,\n",
       "\n",
       "I am writing to recommend [person], who has been actively engaged in the academia sector for several years. [Person] has demonstrated a solid capability in curriculum development, effectively designing course materials that enhance student learning experiences. Additionally, [person] has contributed to research initiatives, collaborating with colleagues on various academic publications that align with departmental goals. Their involvement in coordinating seminars and workshops has shown a commitment to promoting academic discourse among peers. Overall, [person] has proven to be a reliable and dedicated professional within the academic environment. \n",
       "\n",
       "Sincerely,  \n",
       "[Your Name]  \n",
       "[Your Position]  \n",
       "[Your Institution]  </i><br/><br/>\n",
       "</li>\n",
       "\n",
       "<li>    \n",
       "<b>Data Shapley value</b>: -0.013946894056571181<br/>\n",
       "<b>Given label</b>: positive, <b>True label</b>: neutral<br/><br/>\n",
       "\n",
       "<i>To Whom It May Concern,\n",
       "\n",
       "I am writing to recommend [person], who has spent a considerable amount of time in the finance sector. During their tenure, [person] demonstrated a solid understanding of financial data analysis and assisted in preparing financial reports that contributed to informed decision-making within the team. They also engaged in reconciliations of accounts and were involved in the management of budgets, showcasing their attention to detail. Furthermore, [person]'s willingness to learn and adapt to new tasks was evident as they navigated various financial software programs. Overall, I believe [person] has valuable experience that could be beneficial in a suitable role within the finance industry. \n",
       "\n",
       "Sincerely,  \n",
       "[Your Name]</i><br/><br/>\n",
       "</li>\n",
       "</ul>"
      ],
      "text/plain": [
       "<IPython.core.display.HTML object>"
      ]
     },
     "metadata": {},
     "output_type": "display_data"
    }
   ],
   "source": [
    "from IPython.core.display import display, HTML\n",
    "\n",
    "html = '<ul>'\n",
    "\n",
    "for index in np.argsort(dsvs)[:5]:\n",
    "    html += f'''\n",
    "<li>    \n",
    "<b>Data Shapley value</b>: {dsvs[index]}<br/>\n",
    "<b>Given label</b>: {label_encoder.inverse_transform([y_train_mislabeled[index]])[0]}, <b>True label</b>: {label_encoder.inverse_transform([y_train[index]])[0]}<br/><br/>\n",
    "\n",
    "<i>{train.iloc[index].letter}</i><br/><br/>\n",
    "</li>\n",
    "'''\n",
    "\n",
    "html += '</ul>'\n",
    "display(HTML(html))"
   ]
  },
  {
   "cell_type": "code",
   "execution_count": 12,
   "id": "3f215508-8987-4939-8e49-3f970f5cb819",
   "metadata": {},
   "outputs": [],
   "source": [
    "def evaluate_repairs(indices_to_repair, X_train, y_train_mislabeled, y_train, X_test, y_test, utility):\n",
    "    y_train_with_repairs = copy.deepcopy(y_train_mislabeled)\n",
    "    scores = []\n",
    "    \n",
    "    for index in indices_to_repair:\n",
    "        y_train_with_repairs[index] = y_train[index]\n",
    "        score = utility(X_train, y_train_with_repairs, X_test, y_test).score\n",
    "        scores.append(score)\n",
    "\n",
    "    return scores"
   ]
  },
  {
   "cell_type": "code",
   "execution_count": 13,
   "id": "c866f10f-e8e8-4ea4-87cf-ae8f9d6576cb",
   "metadata": {},
   "outputs": [],
   "source": [
    "num_negative_dsvs = np.sum(dsvs < 0)\n",
    "indices_to_repair_dsv = np.argsort(dsvs)[:num_negative_dsvs]\n",
    "\n",
    "repair_scores_dsv = evaluate_repairs(indices_to_repair_dsv, X_train, y_train_mislabeled, y_train, X_test, y_test, utility)"
   ]
  },
  {
   "cell_type": "code",
   "execution_count": 14,
   "id": "cae5b84b-e706-4b88-bab9-594a7517d5af",
   "metadata": {},
   "outputs": [],
   "source": [
    "random_indices = np.random.choice(range(len(X_train)), num_negative_dsvs, replace=False)\n",
    "\n",
    "repair_scores_random = evaluate_repairs(random_indices, X_train, y_train_mislabeled, y_train, X_test, y_test, utility)"
   ]
  },
  {
   "cell_type": "code",
   "execution_count": 15,
   "id": "92d0bdaa-f80e-4953-afbd-03f68f1de3cb",
   "metadata": {},
   "outputs": [],
   "source": [
    "loo_indices = np.argsort(loo_values)[:num_negative_dsvs]\n",
    "loo_indices = [idx for idx in loo_indices if loo_values[idx] < 0.0]\n",
    "\n",
    "repair_scores_loo = evaluate_repairs(loo_indices, X_train, y_train_mislabeled, y_train, X_test, y_test, utility)"
   ]
  },
  {
   "cell_type": "code",
   "execution_count": 18,
   "id": "66542cb4-a1dd-403f-9a52-2acd26de00b1",
   "metadata": {},
   "outputs": [
    {
     "data": {
      "image/png": "[encoded data removed]",
      "text/plain": [
       "<Figure size 640x480 with 1 Axes>"
      ]
     },
     "metadata": {},
     "output_type": "display_data"
    }
   ],
   "source": [
    "from scipy.ndimage import gaussian_filter1d\n",
    "\n",
    "alpha = 0.1\n",
    "sigma = 2\n",
    "\n",
    "ax = sns.lineplot(repair_scores_dsv, alpha=alpha, color='blue', linestyle='--')\n",
    "ax = sns.lineplot(gaussian_filter1d(repair_scores_dsv, sigma=sigma), label=\"Selection based on DSV\", color='blue')\n",
    "ax = sns.lineplot(repair_scores_loo, alpha=alpha, color='orange', linestyle='--')\n",
    "ax = sns.lineplot(gaussian_filter1d(repair_scores_loo, sigma=sigma), label=\"Selection based on LOO\", color='orange')\n",
    "ax = sns.lineplot(repair_scores_random, alpha=alpha, color='black', linestyle='--')\n",
    "ax = sns.lineplot(gaussian_filter1d(repair_scores_random, sigma=sigma), label=\"Random selection\", color='black')\n",
    "\n",
    "\n",
    "ax.set_xlabel(\"Number of inspected samples\")\n",
    "ax.set_ylabel(\"Test Accuracy\")\n",
    "ax.legend()\n",
    "\n",
    "plt.xticks([1] + list(range(5, len(repair_scores_dsv) + 1, 5)))\n",
    "plt.show()"
   ]
  },
  {
   "cell_type": "code",
   "execution_count": null,
   "id": "de3b0b01-7129-4004-ab4d-c744c8d4950b",
   "metadata": {},
   "outputs": [],
   "source": []
  }
 ],
 "metadata": {
  "kernelspec": {
   "display_name": "Python 3 (ipykernel)",
   "language": "python",
   "name": "python3"
  },
  "language_info": {
   "codemirror_mode": {
    "name": "ipython",
    "version": 3
   },
   "file_extension": ".py",
   "mimetype": "text/x-python",
   "name": "python",
   "nbconvert_exporter": "python",
   "pygments_lexer": "ipython3",
   "version": "3.9.19"
  }
 },
 "nbformat": 4,
 "nbformat_minor": 5
}
