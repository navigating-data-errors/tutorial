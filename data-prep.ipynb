{
 "cells": [
  {
   "cell_type": "code",
   "execution_count": 6,
   "id": "aaed2b5a-3536-41e4-9cc8-732ae1ac7cfe",
   "metadata": {},
   "outputs": [],
   "source": [
    "import pandas as pd\n",
    "import numpy as np\n",
    "\n",
    "def label(sentiment):\n",
    "    if sentiment in ['extremely negative', 'negative']:\n",
    "        return 'negative'\n",
    "    elif sentiment in ['extremely positive', 'positive']:\n",
    "        return 'positive'\n",
    "    else: \n",
    "        return 'neutral'        \n",
    "\n",
    "\n",
    "df = pd.read_csv('synthetic_letters.csv')\n",
    "labels = [label(sentiment) for sentiment in df.sentiment]\n",
    "df['label'] = labels"
   ]
  },
  {
   "cell_type": "code",
   "execution_count": 7,
   "id": "58dec08a-3f25-438d-be4c-9b4c056b0e3e",
   "metadata": {},
   "outputs": [
    {
     "name": "stderr",
     "output_type": "stream",
     "text": [
      "/var/folders/ln/t4s9x03j5nz8x1r5tc40xzr00000gn/T/ipykernel_87210/1781161186.py:4: SettingWithCopyWarning: \n",
      "A value is trying to be set on a copy of a slice from a DataFrame.\n",
      "Try using .loc[row_indexer,col_indexer] = value instead\n",
      "\n",
      "See the caveats in the documentation: https://pandas.pydata.org/pandas-docs/stable/user_guide/indexing.html#returning-a-view-versus-a-copy\n",
      "  df_with_attributes['education'] = df_with_attributes['education'].replace('none', np.nan)\n"
     ]
    }
   ],
   "source": [
    "df[['letter', 'label']].to_csv('synthetic_letters_text_only.csv', index=False)\n",
    "\n",
    "df_with_attributes = df[['age', 'sector', 'education', 'letter', 'label']]\n",
    "df_with_attributes['education'] = df_with_attributes['education'].replace('none', np.nan)\n",
    "df_with_attributes[['age', 'sector', 'education', 'letter', 'label']].to_csv('synthetic_letters_with_attributes.csv', index=False)"
   ]
  },
  {
   "cell_type": "code",
   "execution_count": null,
   "id": "e0df67c0-ed33-439b-84c8-6a4659176c21",
   "metadata": {},
   "outputs": [],
   "source": []
  }
 ],
 "metadata": {
  "kernelspec": {
   "display_name": "Python 3 (ipykernel)",
   "language": "python",
   "name": "python3"
  },
  "language_info": {
   "codemirror_mode": {
    "name": "ipython",
    "version": 3
   },
   "file_extension": ".py",
   "mimetype": "text/x-python",
   "name": "python",
   "nbconvert_exporter": "python",
   "pygments_lexer": "ipython3",
   "version": "3.9.19"
  }
 },
 "nbformat": 4,
 "nbformat_minor": 5
}
